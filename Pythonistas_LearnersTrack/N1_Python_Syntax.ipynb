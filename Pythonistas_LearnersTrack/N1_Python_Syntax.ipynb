{
 "cells": [
  {
   "cell_type": "markdown",
   "metadata": {},
   "source": [
    "# TAMING OUR PYTHON !\n",
    "Welcome to the first section of the course. In this section, I will be taking you through the fundamentals of python programming for Data Science.\n",
    "\n",
    "Assuming you have no prior knowledge of programming, I will lay a solid foundation of Python and make sure you are comfortable enough to put it on your resume by the end of this section. \n",
    "\n",
    "I strongly believe in the “Learn by doing” methodology. Hence, I have created some very exciting coding exercises for you. I will strongly recommend doing them yourselves. *Their solutions will be provided at the end of this section.*\n",
    "\n",
    "## WHAT WE WILL LEARN IN THIS SECTION\n",
    "We will take a step by step approach to Data Science. Firstly, we will go over the python basics. Then, we will move ourselves to NumPy, which is an amazing library for handling large datasets. Next, we would learn data manipulations in Pandas, which would prove marvelous in our Data Preperation stages. Finally, we will end this section with three in-depth turials on graphing. As a bonus, we will also discuss a framework for geographical plotting! \n",
    "\n",
    "- **Python Basics**\n",
    "- Object Oriented Python\n",
    "- Python for Data Science\n",
    "- NumPy\n",
    "- Pandas\n",
    "- Plotting \n",
    "    - Matplotlib\n",
    "    - Seaborn\n",
    "    - Plotly\n"
   ]
  },
  {
   "cell_type": "markdown",
   "metadata": {},
   "source": [
    "## VARIABLES AND DATA TYPES\n",
    "Python has five major data types.\n",
    "1. Numbers\n",
    "2. String\n",
    "3. List\n",
    "4. Tuple\n",
    "5. Dictionary\n"
   ]
  },
  {
   "cell_type": "code",
   "execution_count": 8,
   "metadata": {},
   "outputs": [
    {
     "name": "stdout",
     "output_type": "stream",
     "text": [
      "Hello World\n"
     ]
    }
   ],
   "source": [
    "#Anything starting with a # hashtag is a comment\n",
    "#This is our very first python program\n",
    "print(\"Hello World\")"
   ]
  },
  {
   "cell_type": "markdown",
   "metadata": {},
   "source": [
    "### NUMERIC TYPES\n",
    "1. int\n",
    "2. long\n",
    "3. float\n",
    "4. complex"
   ]
  },
  {
   "cell_type": "code",
   "execution_count": 20,
   "metadata": {},
   "outputs": [
    {
     "name": "stdout",
     "output_type": "stream",
     "text": [
      "<class 'int'>\n",
      "<class 'int'>\n",
      "<class 'float'>\n",
      "<class 'complex'>\n"
     ]
    }
   ],
   "source": [
    "var_int = 20\n",
    "var_long = 235453463\n",
    "var_float = 13.12\n",
    "var_complex = 3.12+4j\n",
    "print(type(var_int))\n",
    "print(type(var_long))\n",
    "print(type(var_float))\n",
    "print(type(var_complex))"
   ]
  },
  {
   "cell_type": "markdown",
   "metadata": {},
   "source": [
    "### STRING VARIABLES\n"
   ]
  },
  {
   "cell_type": "code",
   "execution_count": 26,
   "metadata": {},
   "outputs": [
    {
     "name": "stdout",
     "output_type": "stream",
     "text": [
      "Hello World\n",
      "Index 0 =  H\n",
      "llo \n",
      "llo World\n",
      "Hello WorldHello WorldHello WorldHello World\n",
      "Hello WorldAppend\n",
      "Length of string =  11\n"
     ]
    }
   ],
   "source": [
    "str = \"Hello World\"\n",
    "\n",
    "print (str)         \n",
    "print (\"Index 0 = \", str[0])       \n",
    "print (str[2:6])     \n",
    "print (str[2:])\n",
    "print (str * 4)      \n",
    "print (str + \"Append\")\n",
    "print (\"Length of string = \" ,len(str))"
   ]
  },
  {
   "cell_type": "markdown",
   "metadata": {},
   "source": [
    "### LISTS\n",
    "Lists are collections of different data types. "
   ]
  },
  {
   "cell_type": "code",
   "execution_count": 28,
   "metadata": {},
   "outputs": [
    {
     "name": "stdout",
     "output_type": "stream",
     "text": [
      "['string', 20, 3, 235453463, 342342342, 13.12, 2.1]\n"
     ]
    }
   ],
   "source": [
    "list = ['string', var_int, 3, var_long, 342342342, var_float, 2.1]\n",
    "print(list)\n"
   ]
  },
  {
   "cell_type": "markdown",
   "metadata": {},
   "source": [
    "print(list[0])\n",
    "print(list[0:2])\n",
    "print(list[1:3])\n",
    "print(list[:])\n",
    "print(list[:3])\n"
   ]
  },
  {
   "cell_type": "markdown",
   "metadata": {},
   "source": [
    "### TUPLES\n",
    "Tuples are collections of unalterable elements. They can not be edited once created. "
   ]
  },
  {
   "cell_type": "code",
   "execution_count": 35,
   "metadata": {},
   "outputs": [
    {
     "name": "stdout",
     "output_type": "stream",
     "text": [
      "('string', 20, 3, 235453463, 342342342, 13.12, 2.1)\n"
     ]
    }
   ],
   "source": [
    "tuple = ('string', var_int, 3, var_long, 342342342, var_float, 2.1)\n",
    "print(tuple)"
   ]
  },
  {
   "cell_type": "code",
   "execution_count": 38,
   "metadata": {},
   "outputs": [
    {
     "name": "stdout",
     "output_type": "stream",
     "text": [
      "['New assignment', 20, 3, 235453463, 342342342, 13.12, 2.1]\n"
     ]
    }
   ],
   "source": [
    "list[0]='New assignment'\n",
    "print(list)"
   ]
  },
  {
   "cell_type": "code",
   "execution_count": 40,
   "metadata": {},
   "outputs": [
    {
     "ename": "TypeError",
     "evalue": "'tuple' object does not support item assignment",
     "output_type": "error",
     "traceback": [
      "\u001b[1;31m---------------------------------------------------------------------------\u001b[0m",
      "\u001b[1;31mTypeError\u001b[0m                                 Traceback (most recent call last)",
      "\u001b[1;32m<ipython-input-40-f5949e5c87ac>\u001b[0m in \u001b[0;36m<module>\u001b[1;34m()\u001b[0m\n\u001b[1;32m----> 1\u001b[1;33m \u001b[0mtuple\u001b[0m\u001b[1;33m[\u001b[0m\u001b[1;36m0\u001b[0m\u001b[1;33m]\u001b[0m\u001b[1;33m=\u001b[0m\u001b[1;34m'New assignment'\u001b[0m\u001b[1;33m\u001b[0m\u001b[0m\n\u001b[0m",
      "\u001b[1;31mTypeError\u001b[0m: 'tuple' object does not support item assignment"
     ]
    }
   ],
   "source": [
    "tuple[0]='New assignment'"
   ]
  },
  {
   "cell_type": "markdown",
   "metadata": {},
   "source": [
    "### DICTIONARY"
   ]
  },
  {
   "cell_type": "code",
   "execution_count": 45,
   "metadata": {},
   "outputs": [
    {
     "name": "stdout",
     "output_type": "stream",
     "text": [
      "{'key_2': 3, 'key_1': 'Value 1'}\n",
      "{'Age': 21, 'Surname': 'Anjum', 'Name': 'Mahnoor'}\n"
     ]
    }
   ],
   "source": [
    "dict = {}\n",
    "dict['key_1'] = 'Value 1'\n",
    "dict['key_2'] = 3\n",
    "person = {'Name':'Mahnoor', 'Surname':'Anjum', 'Age':21}\n",
    "print(dict)\n",
    "print(person)"
   ]
  },
  {
   "cell_type": "markdown",
   "metadata": {},
   "source": [
    "## BASIC OPERATORS\n",
    "Python has the following data operators.\n",
    "\n",
    "- Arithmetic Operators\n",
    "- Comparison Operators\n",
    "- Assignment Operators\n",
    "- Logical Operators\n",
    "- Bitwise Operators\n",
    "- Membership Operators\n",
    "- Identity Operators\n",
    "\n",
    "\n",
    "### ARITHMETIC OPERATIONS"
   ]
  },
  {
   "cell_type": "code",
   "execution_count": 53,
   "metadata": {},
   "outputs": [
    {
     "name": "stdout",
     "output_type": "stream",
     "text": [
      "10 + 20 =  30\n",
      "10 - 20 =  -10\n",
      "10 * 20 =  200\n",
      "10 / 20 =  0.5\n",
      "12 % 5 =  2\n",
      "10 ** 20 =  100000000000000000000\n"
     ]
    }
   ],
   "source": [
    "print(\"10 + 20 = \", 10 + 20)\n",
    "print(\"10 - 20 = \", 10 - 20)\n",
    "print(\"10 * 20 = \", 10 * 20)\n",
    "print(\"10 / 20 = \", 10 / 20)\n",
    "print(\"12 % 5 = \", 12 % 5)\n",
    "print(\"10 ** 20 = \", 10 ** 20)"
   ]
  },
  {
   "cell_type": "markdown",
   "metadata": {},
   "source": [
    "### RELATIONAL (COMPARISON OPERATORS)"
   ]
  },
  {
   "cell_type": "code",
   "execution_count": 54,
   "metadata": {},
   "outputs": [
    {
     "name": "stdout",
     "output_type": "stream",
     "text": [
      "10 == 20 =  False\n",
      "10 != 20 =  True\n",
      "10 < 20 =  True\n",
      "10 > 20 =  False\n",
      "12 >= 5 =  True\n",
      "10 <= 20 =  True\n"
     ]
    }
   ],
   "source": [
    "print(\"10 == 20 = \", 10 == 20)\n",
    "print(\"10 != 20 = \", 10 != 20)\n",
    "print(\"10 < 20 = \", 10 < 20)\n",
    "print(\"10 > 20 = \", 10 > 20)\n",
    "print(\"12 >= 5 = \", 12 >= 5)\n",
    "print(\"10 <= 20 = \", 10 <= 20)"
   ]
  },
  {
   "cell_type": "markdown",
   "metadata": {},
   "source": [
    "### ASSIGNMENT OPERATORS"
   ]
  },
  {
   "cell_type": "code",
   "execution_count": 61,
   "metadata": {},
   "outputs": [
    {
     "name": "stdout",
     "output_type": "stream",
     "text": [
      " =  1\n",
      " += 3\n",
      " += 1\n",
      " += 1\n",
      " /= 1.0\n",
      " %= 1.0\n",
      " **= 1.0\n",
      " //= 1.0\n"
     ]
    }
   ],
   "source": [
    "a, b = 1, 2\n",
    "c = a\n",
    "print (\" = \", c)\n",
    "c +=b\n",
    "print (\" +=\", c)\n",
    "c -=b\n",
    "print (\" +=\", c)\n",
    "c *=a\n",
    "print (\" +=\", c)\n",
    "c /=a\n",
    "print (\" /=\", c)\n",
    "c %=b\n",
    "print (\" %=\", c)\n",
    "c **=a\n",
    "print (\" **=\", c)\n",
    "c //=a\n",
    "print (\" //=\", c)"
   ]
  },
  {
   "cell_type": "markdown",
   "metadata": {},
   "source": [
    "### BITWISE OPERATORS"
   ]
  },
  {
   "cell_type": "code",
   "execution_count": 78,
   "metadata": {},
   "outputs": [
    {
     "name": "stdout",
     "output_type": "stream",
     "text": [
      " &  0\n",
      " |  187\n",
      " ^  187\n",
      " ~  -177\n",
      " <<  704\n",
      " >>  44\n"
     ]
    }
   ],
   "source": [
    "byte1 = int('10110000', 2) \n",
    "byte2 = int('00001011', 2) \n",
    "byte3 = int('01010101', 2)  \n",
    "print (\" & \", byte1&byte2)\n",
    "print (\" | \", byte1|byte2)\n",
    "print (\" ^ \", byte1^byte2)\n",
    "print (\" ~ \", ~byte1)\n",
    "print (\" << \", byte1<<2)\n",
    "print (\" >> \", byte1>>2)\n",
    "\n"
   ]
  },
  {
   "cell_type": "markdown",
   "metadata": {},
   "source": [
    "### MEMBERSHIP OPERATORS"
   ]
  },
  {
   "cell_type": "code",
   "execution_count": 80,
   "metadata": {},
   "outputs": [
    {
     "name": "stdout",
     "output_type": "stream",
     "text": [
      "1 in sequence True\n",
      "1 not in sequence False\n"
     ]
    }
   ],
   "source": [
    "sequence = [1,2,3,4]\n",
    "print(\"1 in sequence\", 1 in sequence)\n",
    "print(\"1 not in sequence\", 1 not in sequence)\n"
   ]
  },
  {
   "cell_type": "markdown",
   "metadata": {},
   "source": [
    "### IDENTITY OPERATORS"
   ]
  },
  {
   "cell_type": "code",
   "execution_count": 82,
   "metadata": {},
   "outputs": [
    {
     "name": "stdout",
     "output_type": "stream",
     "text": [
      "1687839552\n",
      "1687839584\n",
      "a is b  False\n",
      "a is not b  True\n",
      "a is a  True\n"
     ]
    }
   ],
   "source": [
    "a = 1\n",
    "b = 2\n",
    "print(id(a))\n",
    "print(id(b))\n",
    "print(\"a is b \", a is b)\n",
    "print(\"a is not b \", a is not b)\n",
    "print(\"a is a \", a is a)"
   ]
  },
  {
   "cell_type": "markdown",
   "metadata": {},
   "source": [
    "## CONDITIONAL FLOW CONTROL"
   ]
  },
  {
   "cell_type": "code",
   "execution_count": 84,
   "metadata": {},
   "outputs": [
    {
     "name": "stdout",
     "output_type": "stream",
     "text": [
      "Sorry, could not log in\n"
     ]
    }
   ],
   "source": [
    "input_name = \"Mahnoor Anjum\"\n",
    "database_name = \"Jane Doe\"\n",
    "if(input_name == database_name):\n",
    "    print(\"Logged in\")\n",
    "else:\n",
    "    print(\"Sorry, could not log in\")"
   ]
  },
  {
   "cell_type": "code",
   "execution_count": 85,
   "metadata": {},
   "outputs": [
    {
     "name": "stdout",
     "output_type": "stream",
     "text": [
      "Logged in\n"
     ]
    }
   ],
   "source": [
    "input_name = \"Mahnoor Anjum\"\n",
    "database_name = \"Mahnoor Anjum\"\n",
    "if(input_name == database_name):\n",
    "    print(\"Logged in\")\n",
    "else:\n",
    "    print(\"Sorry, could not log in\")"
   ]
  },
  {
   "cell_type": "code",
   "execution_count": 98,
   "metadata": {},
   "outputs": [
    {
     "name": "stdout",
     "output_type": "stream",
     "text": [
      "You will be a substitute in our team\n"
     ]
    }
   ],
   "source": [
    "age = 40\n",
    "if(age>60):\n",
    "    print(\"Sorry, you are not eligible to play anymore\")\n",
    "elif(age>=40 and age<60):\n",
    "    print(\"You will be a substitute in our team\")\n",
    "elif(age>=30 and age<40):\n",
    "    print(\"You will be subbed during the second half\")\n",
    "elif(age>=20 and age<30):\n",
    "    print(\"Let's win this thing\")\n",
    "elif(age>=10 and age<20):\n",
    "    print(\"Train, for the real test is just around the corner\")\n",
    "else:\n",
    "    print(\"Kindly put a valid age into the system\")"
   ]
  },
  {
   "cell_type": "markdown",
   "metadata": {},
   "source": [
    "## LOOPS \n",
    "We can repeat tasks via the following statements:\n",
    "1. For loops\n",
    "2. While loops\n",
    "We can also use nested loops for the flow control."
   ]
  },
  {
   "cell_type": "code",
   "execution_count": 109,
   "metadata": {},
   "outputs": [
    {
     "name": "stdout",
     "output_type": "stream",
     "text": [
      "**********\n",
      "*********\n",
      "********\n",
      "*******\n",
      "******\n",
      "*****\n",
      "****\n",
      "***\n",
      "**\n",
      "*\n"
     ]
    }
   ],
   "source": [
    "j=10\n",
    "for i in range(10):\n",
    "    for k in range(j):\n",
    "        print(\"*\", end =\"\")\n",
    "    j-=1\n",
    "    print(\"\", end= \"\\n\")"
   ]
  },
  {
   "cell_type": "markdown",
   "metadata": {},
   "source": [
    "## HOME WORK \n",
    "This is your very first home task. Try coding it yourself. You have to cut the diamond out of the canvas of asterisks. Hope you do well. "
   ]
  },
  {
   "cell_type": "code",
   "execution_count": 132,
   "metadata": {
    "scrolled": true
   },
   "outputs": [
    {
     "name": "stdout",
     "output_type": "stream",
     "text": [
      "********************\n",
      "*********  *********\n",
      "********    ********\n",
      "*******      *******\n",
      "******        ******\n",
      "*****          *****\n",
      "****            ****\n",
      "***              ***\n",
      "**                **\n",
      "*                  *\n",
      "*                  *\n",
      "**                **\n",
      "***              ***\n",
      "****            ****\n",
      "*****          *****\n",
      "******        ******\n",
      "*******      *******\n",
      "********    ********\n",
      "*********  *********\n",
      "********************\n"
     ]
    }
   ],
   "source": [
    "j=10\n",
    "space=0\n",
    "\n",
    "for i in range(10):\n",
    "    for k in range(j):\n",
    "        print(\"*\", end =\"\")\n",
    "    for q in range(space):\n",
    "        print(\" \", end=\"\")\n",
    "    for k in range(j):\n",
    "        print(\"*\", end =\"\")\n",
    "    j-=1\n",
    "    space+=2\n",
    "    print(\"\", end= \"\\n\")\n",
    "j=1\n",
    "space=18\n",
    "for i in range(10):\n",
    "    for k in range(j):\n",
    "        print(\"*\", end =\"\")\n",
    "    for q in range(space):\n",
    "        print(\" \", end=\"\")\n",
    "    for k in range(j):\n",
    "        print(\"*\", end =\"\")\n",
    "    j+=1\n",
    "    space-=2\n",
    "    print(\"\", end= \"\\n\")\n"
   ]
  },
  {
   "cell_type": "markdown",
   "metadata": {},
   "source": [
    "### LOOP CONTROL STATEMENTS"
   ]
  },
  {
   "cell_type": "code",
   "execution_count": 136,
   "metadata": {},
   "outputs": [
    {
     "name": "stdout",
     "output_type": "stream",
     "text": [
      "0\n",
      "1\n",
      "2\n",
      "3\n",
      "4\n"
     ]
    }
   ],
   "source": [
    "value =5\n",
    "for i in range(10):\n",
    "    if(i==value):\n",
    "        break\n",
    "    print(i)"
   ]
  },
  {
   "cell_type": "code",
   "execution_count": 138,
   "metadata": {},
   "outputs": [
    {
     "name": "stdout",
     "output_type": "stream",
     "text": [
      "0\n",
      "1\n",
      "2\n",
      "3\n",
      "4\n",
      "6\n",
      "7\n",
      "8\n",
      "9\n"
     ]
    }
   ],
   "source": [
    "value =5\n",
    "for i in range(10):\n",
    "    if(i==value):\n",
    "        continue\n",
    "    print(i)"
   ]
  },
  {
   "cell_type": "markdown",
   "metadata": {},
   "source": [
    "### WELCOME TO THE END OF THE TUTORIAL\n",
    "You made it!! Hope you enjoyed taking this tutorial as much as I enjoyed coding it. From the next tutorial, we will be jumping right into Objects and Classes and everything that comes with them!\n",
    "\n",
    "Object Oriented Programming is a whole new concept of coding which, not only will help you be a better data scientist, but make you a conventional programmer.\n",
    "\n",
    "Hope you guys create some awesome Aterisk-Artwork, do share it with me, I would love to see how you guys are doing. Until next time, Happy Coding!\n",
    "\n",
    "---------------------------------------------------------------------------------\n",
    "Copyrights © 2018, All Rights Reserved.\n",
    "- Author: Mahnoor Anjum.\n",
    "- Course: The Complete Hands-On Machine Learning Course\n",
    "- Date Created: 2018-06-27\n",
    "- Date Modified: -"
   ]
  },
  {
   "cell_type": "code",
   "execution_count": null,
   "metadata": {},
   "outputs": [],
   "source": []
  }
 ],
 "metadata": {
  "kernelspec": {
   "display_name": "Python 3",
   "language": "python",
   "name": "python3"
  },
  "language_info": {
   "codemirror_mode": {
    "name": "ipython",
    "version": 3
   },
   "file_extension": ".py",
   "mimetype": "text/x-python",
   "name": "python",
   "nbconvert_exporter": "python",
   "pygments_lexer": "ipython3",
   "version": "3.5.4"
  }
 },
 "nbformat": 4,
 "nbformat_minor": 2
}

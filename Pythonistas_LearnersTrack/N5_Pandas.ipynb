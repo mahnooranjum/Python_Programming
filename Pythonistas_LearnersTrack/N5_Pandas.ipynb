{
 "cells": [
  {
   "cell_type": "markdown",
   "metadata": {},
   "source": [
    "# MUNG - FU PANDA \n",
    "\n",
    "Welcome to the Pandas tutorial. Pandas is an excellent tool for data wrangling also known as data munging.\n",
    "It refers to the cleaning and preperation of data from Raw format to a usable and suitable format for our use.\n",
    "\n",
    "- Python Basics\n",
    "- Object Oriented Python\n",
    "- Python for Data Science\n",
    "- NumPy\n",
    "- **Pandas**\n",
    "- Plotting \n",
    "    - Matplotlib\n",
    "    - Seaborn\n",
    "    - Plotly\n",
    "    \n",
    "Let's get coding !"
   ]
  },
  {
   "cell_type": "markdown",
   "metadata": {},
   "source": [
    "### SERIES AND DATAFRAMES\n",
    "Series and dataframes are the main data types Pandas introduces. "
   ]
  },
  {
   "cell_type": "code",
   "execution_count": 135,
   "metadata": {},
   "outputs": [],
   "source": [
    "import numpy as np\n",
    "import pandas as pd\n",
    "Student_ID = list(range(10,20))\n",
    "Grades = ['A','B','A','A','F','C','F','F','D','A']\n",
    "arr_Grades = np.array(Grades)"
   ]
  },
  {
   "cell_type": "code",
   "execution_count": 136,
   "metadata": {},
   "outputs": [
    {
     "name": "stdout",
     "output_type": "stream",
     "text": [
      "0    A\n",
      "1    B\n",
      "2    A\n",
      "3    A\n",
      "4    F\n",
      "5    C\n",
      "6    F\n",
      "7    F\n",
      "8    D\n",
      "9    A\n",
      "dtype: object\n"
     ]
    }
   ],
   "source": [
    "print(pd.Series(data = Grades))"
   ]
  },
  {
   "cell_type": "code",
   "execution_count": 137,
   "metadata": {},
   "outputs": [
    {
     "name": "stdout",
     "output_type": "stream",
     "text": [
      "10    A\n",
      "11    B\n",
      "12    A\n",
      "13    A\n",
      "14    F\n",
      "15    C\n",
      "16    F\n",
      "17    F\n",
      "18    D\n",
      "19    A\n",
      "dtype: object\n"
     ]
    }
   ],
   "source": [
    "print(pd.Series(data = Grades, index = Student_ID))"
   ]
  },
  {
   "cell_type": "code",
   "execution_count": 138,
   "metadata": {},
   "outputs": [
    {
     "name": "stdout",
     "output_type": "stream",
     "text": [
      "0    A\n",
      "1    B\n",
      "2    A\n",
      "3    A\n",
      "4    F\n",
      "5    C\n",
      "6    F\n",
      "7    F\n",
      "8    D\n",
      "9    A\n",
      "dtype: object\n"
     ]
    }
   ],
   "source": [
    "print(pd.Series(arr_Grades))"
   ]
  },
  {
   "cell_type": "code",
   "execution_count": 139,
   "metadata": {},
   "outputs": [],
   "source": [
    "d = {'Pakistan':11, 'Germany':4, 'Brazil':5, 'Argentina':6}\n",
    "S = pd.Series(d)"
   ]
  },
  {
   "cell_type": "code",
   "execution_count": 140,
   "metadata": {},
   "outputs": [
    {
     "name": "stdout",
     "output_type": "stream",
     "text": [
      "11\n"
     ]
    }
   ],
   "source": [
    "print(S['Pakistan'])"
   ]
  },
  {
   "cell_type": "code",
   "execution_count": 141,
   "metadata": {},
   "outputs": [
    {
     "name": "stdout",
     "output_type": "stream",
     "text": [
      "Argentina    12\n",
      "Brazil       10\n",
      "Germany       8\n",
      "Pakistan     22\n",
      "dtype: int64\n"
     ]
    }
   ],
   "source": [
    "print(S + S)"
   ]
  },
  {
   "cell_type": "code",
   "execution_count": 142,
   "metadata": {},
   "outputs": [
    {
     "name": "stdout",
     "output_type": "stream",
     "text": [
      "Argentina    0\n",
      "Brazil       0\n",
      "Germany      0\n",
      "Pakistan     0\n",
      "dtype: int64\n"
     ]
    }
   ],
   "source": [
    "print(S-S)"
   ]
  },
  {
   "cell_type": "code",
   "execution_count": 143,
   "metadata": {},
   "outputs": [
    {
     "name": "stdout",
     "output_type": "stream",
     "text": [
      "Argentina           46656\n",
      "Brazil               3125\n",
      "Germany               256\n",
      "Pakistan     285311670611\n",
      "dtype: int64\n"
     ]
    }
   ],
   "source": [
    "print(S**S)"
   ]
  },
  {
   "cell_type": "code",
   "execution_count": 144,
   "metadata": {},
   "outputs": [],
   "source": [
    "arr = np.random.randint(1,10,5)\n",
    "df = pd.DataFrame(arr, ['A','B','C','D','E'])"
   ]
  },
  {
   "cell_type": "code",
   "execution_count": 145,
   "metadata": {},
   "outputs": [
    {
     "name": "stdout",
     "output_type": "stream",
     "text": [
      "   0\n",
      "A  4\n",
      "B  3\n",
      "C  6\n",
      "D  1\n",
      "E  3\n"
     ]
    }
   ],
   "source": [
    "print(df)"
   ]
  },
  {
   "cell_type": "code",
   "execution_count": 146,
   "metadata": {},
   "outputs": [
    {
     "name": "stdout",
     "output_type": "stream",
     "text": [
      "   Q  W  E\n",
      "A  5  9  1\n",
      "B  2  1  6\n",
      "C  1  1  2\n",
      "D  3  8  6\n",
      "E  4  3  1\n"
     ]
    }
   ],
   "source": [
    "df = pd.DataFrame(np.random.randint(1,10,(5,3)), ['A','B','C','D','E'],['Q','W','E'])\n",
    "print(df)"
   ]
  },
  {
   "cell_type": "code",
   "execution_count": 147,
   "metadata": {},
   "outputs": [
    {
     "name": "stdout",
     "output_type": "stream",
     "text": [
      "A    9\n",
      "B    1\n",
      "C    1\n",
      "D    8\n",
      "E    3\n",
      "Name: W, dtype: int32\n"
     ]
    }
   ],
   "source": [
    "print(df['W'])"
   ]
  },
  {
   "cell_type": "code",
   "execution_count": 148,
   "metadata": {},
   "outputs": [
    {
     "name": "stdout",
     "output_type": "stream",
     "text": [
      "A    9\n",
      "B    1\n",
      "C    1\n",
      "D    8\n",
      "E    3\n",
      "Name: W, dtype: int32\n"
     ]
    }
   ],
   "source": [
    "print(df.W)"
   ]
  },
  {
   "cell_type": "code",
   "execution_count": 149,
   "metadata": {},
   "outputs": [
    {
     "name": "stdout",
     "output_type": "stream",
     "text": [
      "<class 'pandas.core.series.Series'>\n",
      "<class 'pandas.core.series.Series'>\n",
      "   Q  W\n",
      "A  5  9\n",
      "B  2  1\n",
      "C  1  1\n",
      "D  3  8\n",
      "E  4  3\n"
     ]
    }
   ],
   "source": [
    "print(type(df.W))\n",
    "print(type(df['W']))\n",
    "print(df[['Q','W']])"
   ]
  },
  {
   "cell_type": "code",
   "execution_count": 150,
   "metadata": {},
   "outputs": [
    {
     "name": "stdout",
     "output_type": "stream",
     "text": [
      "   Q  W  E  New Column\n",
      "A  5  9  1           0\n",
      "B  2  1  6           0\n",
      "C  1  1  2           0\n",
      "D  3  8  6           0\n",
      "E  4  3  1           0\n"
     ]
    }
   ],
   "source": [
    "df['New Column'] = 0\n",
    "print(df)"
   ]
  },
  {
   "cell_type": "code",
   "execution_count": 151,
   "metadata": {},
   "outputs": [
    {
     "name": "stdout",
     "output_type": "stream",
     "text": [
      "   Q  W  E\n",
      "A  5  9  1\n",
      "B  2  1  6\n",
      "C  1  1  2\n",
      "D  3  8  6\n",
      "E  4  3  1\n"
     ]
    }
   ],
   "source": [
    "df.drop('New Column', axis = 1, inplace = True)\n",
    "print(df)"
   ]
  },
  {
   "cell_type": "code",
   "execution_count": 152,
   "metadata": {},
   "outputs": [
    {
     "name": "stdout",
     "output_type": "stream",
     "text": [
      "Q    1\n",
      "W    1\n",
      "E    2\n",
      "Name: C, dtype: int32\n",
      "<class 'pandas.core.series.Series'>\n"
     ]
    }
   ],
   "source": [
    "print(df.loc['C'])\n",
    "print(type(df.loc['C']))"
   ]
  },
  {
   "cell_type": "code",
   "execution_count": 153,
   "metadata": {},
   "outputs": [
    {
     "name": "stdout",
     "output_type": "stream",
     "text": [
      "Q    1\n",
      "W    1\n",
      "E    2\n",
      "Name: C, dtype: int32\n",
      "<class 'pandas.core.series.Series'>\n"
     ]
    }
   ],
   "source": [
    "print(df.iloc[2])\n",
    "print(type(df.iloc[2]))"
   ]
  },
  {
   "cell_type": "code",
   "execution_count": 154,
   "metadata": {},
   "outputs": [
    {
     "name": "stdout",
     "output_type": "stream",
     "text": [
      "   W  E\n",
      "B  1  6\n",
      "C  1  2\n",
      "D  8  6\n"
     ]
    }
   ],
   "source": [
    "print(df.iloc[1:4,1:3])"
   ]
  },
  {
   "cell_type": "code",
   "execution_count": 155,
   "metadata": {},
   "outputs": [
    {
     "name": "stdout",
     "output_type": "stream",
     "text": [
      "   Q  E\n",
      "A  5  1\n",
      "D  3  6\n"
     ]
    }
   ],
   "source": [
    "print(df.loc[['A','D'],['Q','E']])"
   ]
  },
  {
   "cell_type": "code",
   "execution_count": 156,
   "metadata": {},
   "outputs": [
    {
     "name": "stdout",
     "output_type": "stream",
     "text": [
      "       Q      W      E\n",
      "A  False   True  False\n",
      "B  False  False   True\n",
      "C  False  False  False\n",
      "D  False   True   True\n",
      "E  False  False  False\n"
     ]
    }
   ],
   "source": [
    "print(df>5)"
   ]
  },
  {
   "cell_type": "code",
   "execution_count": 157,
   "metadata": {},
   "outputs": [
    {
     "name": "stdout",
     "output_type": "stream",
     "text": [
      "    Q    W    E\n",
      "A NaN  9.0  NaN\n",
      "B NaN  NaN  6.0\n",
      "C NaN  NaN  NaN\n",
      "D NaN  8.0  6.0\n",
      "E NaN  NaN  NaN\n"
     ]
    }
   ],
   "source": [
    "print(df[df>5])"
   ]
  },
  {
   "cell_type": "code",
   "execution_count": 158,
   "metadata": {},
   "outputs": [
    {
     "name": "stdout",
     "output_type": "stream",
     "text": [
      "Empty DataFrame\n",
      "Columns: [Q, W, E]\n",
      "Index: []\n"
     ]
    }
   ],
   "source": [
    "print(df[df['Q']>5])"
   ]
  },
  {
   "cell_type": "code",
   "execution_count": 159,
   "metadata": {},
   "outputs": [
    {
     "name": "stdout",
     "output_type": "stream",
     "text": [
      "Empty DataFrame\n",
      "Columns: [Q, W, E]\n",
      "Index: []\n"
     ]
    }
   ],
   "source": [
    "print(df[(df['Q']>5) & (df['E']>5)])"
   ]
  },
  {
   "cell_type": "code",
   "execution_count": 160,
   "metadata": {},
   "outputs": [
    {
     "name": "stdout",
     "output_type": "stream",
     "text": [
      "   Q  W  E\n",
      "B  2  1  6\n",
      "D  3  8  6\n"
     ]
    }
   ],
   "source": [
    "print(df[(df['Q']>5) | (df['E']>5)])"
   ]
  },
  {
   "cell_type": "code",
   "execution_count": 161,
   "metadata": {},
   "outputs": [
    {
     "name": "stdout",
     "output_type": "stream",
     "text": [
      "  index  Q  W  E\n",
      "0     A  5  9  1\n",
      "1     B  2  1  6\n",
      "2     C  1  1  2\n",
      "3     D  3  8  6\n",
      "4     E  4  3  1\n"
     ]
    }
   ],
   "source": [
    "df = df.reset_index()\n",
    "print(df)\n"
   ]
  },
  {
   "cell_type": "code",
   "execution_count": 162,
   "metadata": {},
   "outputs": [
    {
     "name": "stdout",
     "output_type": "stream",
     "text": [
      "0    A\n",
      "1    B\n",
      "2    C\n",
      "3    D\n",
      "4    E\n",
      "Name: index, dtype: object\n"
     ]
    }
   ],
   "source": [
    "print(df['index'])"
   ]
  },
  {
   "cell_type": "code",
   "execution_count": 163,
   "metadata": {},
   "outputs": [
    {
     "name": "stdout",
     "output_type": "stream",
     "text": [
      "       Q  W  E\n",
      "index         \n",
      "A      5  9  1\n",
      "B      2  1  6\n",
      "C      1  1  2\n",
      "D      3  8  6\n",
      "E      4  3  1\n"
     ]
    }
   ],
   "source": [
    "print(df.set_index('index'))"
   ]
  },
  {
   "cell_type": "markdown",
   "metadata": {},
   "source": [
    "### DATA MANIPULATIONS"
   ]
  },
  {
   "cell_type": "code",
   "execution_count": 164,
   "metadata": {},
   "outputs": [
    {
     "name": "stdout",
     "output_type": "stream",
     "text": [
      "     A    B     C\n",
      "0  1.0  5.0  12.0\n",
      "1  2.0  6.0   NaN\n",
      "2  NaN  7.0  13.0\n",
      "3  NaN  NaN  14.0\n",
      "4  5.0  8.0  15.0\n"
     ]
    }
   ],
   "source": [
    "col1 = [1,2,np.nan,np.nan,5]\n",
    "col2 = [5,6,7,np.nan,8]\n",
    "col3 = [12,np.nan,13,14,15]\n",
    "d = {'A':col1, 'B':col2, 'C':col3}\n",
    "df = pd.DataFrame(d)\n",
    "print(df)"
   ]
  },
  {
   "cell_type": "code",
   "execution_count": 165,
   "metadata": {},
   "outputs": [
    {
     "name": "stdout",
     "output_type": "stream",
     "text": [
      "     A    B     C\n",
      "0  1.0  5.0  12.0\n",
      "4  5.0  8.0  15.0\n",
      "     A    B     C\n",
      "0  1.0  5.0  12.0\n",
      "1  2.0  6.0   NaN\n",
      "2  NaN  7.0  13.0\n",
      "4  5.0  8.0  15.0\n"
     ]
    }
   ],
   "source": [
    "print(df.dropna())\n",
    "print(df.dropna(thresh=2))"
   ]
  },
  {
   "cell_type": "code",
   "execution_count": 166,
   "metadata": {},
   "outputs": [
    {
     "name": "stdout",
     "output_type": "stream",
     "text": [
      "       A      B      C\n",
      "0      1      5     12\n",
      "1      2      6  VALUE\n",
      "2  VALUE      7     13\n",
      "3  VALUE  VALUE     14\n",
      "4      5      8     15\n"
     ]
    }
   ],
   "source": [
    "print(df.fillna(value=\"VALUE\"))"
   ]
  },
  {
   "cell_type": "code",
   "execution_count": 167,
   "metadata": {},
   "outputs": [
    {
     "name": "stdout",
     "output_type": "stream",
     "text": [
      "0    1.000000\n",
      "1    2.000000\n",
      "2    2.666667\n",
      "3    2.666667\n",
      "4    5.000000\n",
      "Name: A, dtype: float64\n"
     ]
    }
   ],
   "source": [
    "print(df['A'].fillna(value=df['A'].mean()))"
   ]
  },
  {
   "cell_type": "markdown",
   "metadata": {},
   "source": [
    "### MERGE\n",
    "Merging refers to a \"Glue-ing\" technique that does not care about the index."
   ]
  },
  {
   "cell_type": "code",
   "execution_count": 168,
   "metadata": {},
   "outputs": [
    {
     "name": "stdout",
     "output_type": "stream",
     "text": [
      "    A   B Key\n",
      "0  A0  B0  K0\n",
      "1  A1  B1  K1\n",
      "2  A2  B2  K2\n",
      "3  A3  B3  K3\n",
      "    C   D Key\n",
      "0  C0  D0  K0\n",
      "1  C1  D1  K1\n",
      "2  C2  D2  K2\n",
      "3  C3  D3  K4\n"
     ]
    }
   ],
   "source": [
    "left = pd.DataFrame({'Key': ['K0', 'K1', 'K2', 'K3'],\n",
    "                     'A': ['A0', 'A1', 'A2', 'A3'],\n",
    "                     'B': ['B0', 'B1', 'B2', 'B3']})\n",
    "   \n",
    "right = pd.DataFrame({'Key': ['K0', 'K1', 'K2', 'K4'],\n",
    "                          'C': ['C0', 'C1', 'C2', 'C3'],\n",
    "                          'D': ['D0', 'D1', 'D2', 'D3']})  \n",
    "print(left)\n",
    "print(right)"
   ]
  },
  {
   "cell_type": "code",
   "execution_count": 169,
   "metadata": {},
   "outputs": [
    {
     "name": "stdout",
     "output_type": "stream",
     "text": [
      "    A   B Key   C   D\n",
      "0  A0  B0  K0  C0  D0\n",
      "1  A1  B1  K1  C1  D1\n",
      "2  A2  B2  K2  C2  D2\n"
     ]
    }
   ],
   "source": [
    "#Inner join only looks at the intersection\n",
    "print(pd.merge(left, right, on=\"Key\", how=\"inner\"))"
   ]
  },
  {
   "cell_type": "code",
   "execution_count": 170,
   "metadata": {},
   "outputs": [
    {
     "name": "stdout",
     "output_type": "stream",
     "text": [
      "    A   B Key    C    D\n",
      "0  A0  B0  K0   C0   D0\n",
      "1  A1  B1  K1   C1   D1\n",
      "2  A2  B2  K2   C2   D2\n",
      "3  A3  B3  K3  NaN  NaN\n"
     ]
    }
   ],
   "source": [
    "#Left join gives us the left df + the intersection\n",
    "print(pd.merge(left, right, on=\"Key\", how=\"left\"))"
   ]
  },
  {
   "cell_type": "code",
   "execution_count": 171,
   "metadata": {},
   "outputs": [
    {
     "name": "stdout",
     "output_type": "stream",
     "text": [
      "     A    B Key   C   D\n",
      "0   A0   B0  K0  C0  D0\n",
      "1   A1   B1  K1  C1  D1\n",
      "2   A2   B2  K2  C2  D2\n",
      "3  NaN  NaN  K4  C3  D3\n"
     ]
    }
   ],
   "source": [
    "#Right join gives us the right df + the intersection\n",
    "print(pd.merge(left, right, on=\"Key\", how=\"right\"))"
   ]
  },
  {
   "cell_type": "code",
   "execution_count": 172,
   "metadata": {},
   "outputs": [
    {
     "name": "stdout",
     "output_type": "stream",
     "text": [
      "     A    B Key    C    D\n",
      "0   A0   B0  K0   C0   D0\n",
      "1   A1   B1  K1   C1   D1\n",
      "2   A2   B2  K2   C2   D2\n",
      "3   A3   B3  K3  NaN  NaN\n",
      "4  NaN  NaN  K4   C3   D3\n"
     ]
    }
   ],
   "source": [
    "#Outer join gives us the right df + the intersection + the left df\n",
    "print(pd.merge(left, right, on=\"Key\", how=\"outer\"))"
   ]
  },
  {
   "cell_type": "markdown",
   "metadata": {},
   "source": [
    "### JOIN\n",
    "Joining refers to a \"Glue-ing\" technique that does care about the index"
   ]
  },
  {
   "cell_type": "code",
   "execution_count": 173,
   "metadata": {},
   "outputs": [
    {
     "name": "stdout",
     "output_type": "stream",
     "text": [
      "     A   B\n",
      "K0  A0  B0\n",
      "K1  A1  B1\n",
      "K2  A2  B2\n",
      "K3  A3  B3\n",
      "     C   D\n",
      "K0  C0  D0\n",
      "K1  C1  D1\n",
      "K2  C2  D2\n",
      "K4  C3  D3\n"
     ]
    }
   ],
   "source": [
    "left = pd.DataFrame({'A': ['A0', 'A1', 'A2', 'A3'],\n",
    "                     'B': ['B0', 'B1', 'B2', 'B3']},\n",
    "                   index = ['K0', 'K1', 'K2', 'K3'])\n",
    "   \n",
    "right = pd.DataFrame({'C': ['C0', 'C1', 'C2', 'C3'],\n",
    "                      'D': ['D0', 'D1', 'D2', 'D3']},\n",
    "                    index =  ['K0', 'K1', 'K2', 'K4'],)  \n",
    "print(left)\n",
    "print(right)"
   ]
  },
  {
   "cell_type": "code",
   "execution_count": 174,
   "metadata": {},
   "outputs": [
    {
     "name": "stdout",
     "output_type": "stream",
     "text": [
      "     A   B    C    D\n",
      "K0  A0  B0   C0   D0\n",
      "K1  A1  B1   C1   D1\n",
      "K2  A2  B2   C2   D2\n",
      "K3  A3  B3  NaN  NaN\n"
     ]
    }
   ],
   "source": [
    "print(left.join(right))"
   ]
  },
  {
   "cell_type": "code",
   "execution_count": 175,
   "metadata": {},
   "outputs": [
    {
     "name": "stdout",
     "output_type": "stream",
     "text": [
      "     A   B   C   D\n",
      "K0  A0  B0  C0  D0\n",
      "K1  A1  B1  C1  D1\n",
      "K2  A2  B2  C2  D2\n"
     ]
    }
   ],
   "source": [
    "print(left.join(right, how=\"inner\"))"
   ]
  },
  {
   "cell_type": "code",
   "execution_count": 176,
   "metadata": {},
   "outputs": [
    {
     "name": "stdout",
     "output_type": "stream",
     "text": [
      "      A    B    C    D\n",
      "K0   A0   B0   C0   D0\n",
      "K1   A1   B1   C1   D1\n",
      "K2   A2   B2   C2   D2\n",
      "K3   A3   B3  NaN  NaN\n",
      "K4  NaN  NaN   C3   D3\n"
     ]
    }
   ],
   "source": [
    "print(left.join(right, how=\"outer\"))"
   ]
  },
  {
   "cell_type": "code",
   "execution_count": 177,
   "metadata": {},
   "outputs": [
    {
     "name": "stdout",
     "output_type": "stream",
     "text": [
      "     C   D    A    B\n",
      "K0  C0  D0   A0   B0\n",
      "K1  C1  D1   A1   B1\n",
      "K2  C2  D2   A2   B2\n",
      "K4  C3  D3  NaN  NaN\n"
     ]
    }
   ],
   "source": [
    "print(right.join(left))"
   ]
  },
  {
   "cell_type": "markdown",
   "metadata": {},
   "source": [
    "### CONCATENATE"
   ]
  },
  {
   "cell_type": "code",
   "execution_count": 178,
   "metadata": {},
   "outputs": [
    {
     "name": "stdout",
     "output_type": "stream",
     "text": [
      "   C0  C1  C2  C3\n",
      "0  00  01  02  03\n",
      "1  10  11  12  13\n",
      "2  20  21  22  23\n",
      "3  30  31  32  33\n"
     ]
    }
   ],
   "source": [
    "df1 = pd.DataFrame({'C0': ['00', '10','20', '30'],\n",
    "                        'C1': ['01', '11', '21', '31'],\n",
    "                        'C2': ['02', '12', '22', '32'],\n",
    "                        'C3': ['03', '13', '23', '33']},\n",
    "                        index=[0, 1, 2, 3])\n",
    "print(df1)"
   ]
  },
  {
   "cell_type": "code",
   "execution_count": 179,
   "metadata": {},
   "outputs": [
    {
     "name": "stdout",
     "output_type": "stream",
     "text": [
      "   C0  C1  C2  C3\n",
      "4  40  41  42  43\n",
      "5  50  51  52  53\n",
      "6  60  61  62  63\n",
      "7  70  71  72  73\n"
     ]
    }
   ],
   "source": [
    "df2 = pd.DataFrame({'C0': ['40', '50','60', '70'],\n",
    "                        'C1': ['41', '51', '61', '71'],\n",
    "                        'C2': ['42', '52', '62', '72'],\n",
    "                        'C3': ['43', '53', '63', '73']},\n",
    "                        index=[4, 5, 6, 7])\n",
    "print(df2)"
   ]
  },
  {
   "cell_type": "code",
   "execution_count": 180,
   "metadata": {},
   "outputs": [
    {
     "name": "stdout",
     "output_type": "stream",
     "text": [
      "      C0    C1    C2    C3\n",
      "8     80    81    82    83\n",
      "9     90    91    92    93\n",
      "10  10,0  10,1  10,2  10,3\n",
      "11  11,0  11,1  11,2  11,3\n"
     ]
    }
   ],
   "source": [
    "df3 = pd.DataFrame({'C0': ['80', '90','10,0', '11,0'],\n",
    "                        'C1': ['81', '91', '10,1', '11,1'],\n",
    "                        'C2': ['82', '92', '10,2', '11,2'],\n",
    "                        'C3': ['83', '93', '10,3', '11,3']},\n",
    "                        index=[8, 9, 10, 11])\n",
    "print(df3)"
   ]
  },
  {
   "cell_type": "code",
   "execution_count": 181,
   "metadata": {},
   "outputs": [
    {
     "name": "stdout",
     "output_type": "stream",
     "text": [
      "      C0    C1    C2    C3\n",
      "0     00    01    02    03\n",
      "1     10    11    12    13\n",
      "2     20    21    22    23\n",
      "3     30    31    32    33\n",
      "4     40    41    42    43\n",
      "5     50    51    52    53\n",
      "6     60    61    62    63\n",
      "7     70    71    72    73\n",
      "8     80    81    82    83\n",
      "9     90    91    92    93\n",
      "10  10,0  10,1  10,2  10,3\n",
      "11  11,0  11,1  11,2  11,3\n"
     ]
    }
   ],
   "source": [
    "print(pd.concat([df1,df2,df3]))"
   ]
  },
  {
   "cell_type": "code",
   "execution_count": 182,
   "metadata": {},
   "outputs": [
    {
     "name": "stdout",
     "output_type": "stream",
     "text": [
      "     C0   C1   C2   C3   C0   C1   C2   C3    C0    C1    C2    C3\n",
      "0    00   01   02   03  NaN  NaN  NaN  NaN   NaN   NaN   NaN   NaN\n",
      "1    10   11   12   13  NaN  NaN  NaN  NaN   NaN   NaN   NaN   NaN\n",
      "2    20   21   22   23  NaN  NaN  NaN  NaN   NaN   NaN   NaN   NaN\n",
      "3    30   31   32   33  NaN  NaN  NaN  NaN   NaN   NaN   NaN   NaN\n",
      "4   NaN  NaN  NaN  NaN   40   41   42   43   NaN   NaN   NaN   NaN\n",
      "5   NaN  NaN  NaN  NaN   50   51   52   53   NaN   NaN   NaN   NaN\n",
      "6   NaN  NaN  NaN  NaN   60   61   62   63   NaN   NaN   NaN   NaN\n",
      "7   NaN  NaN  NaN  NaN   70   71   72   73   NaN   NaN   NaN   NaN\n",
      "8   NaN  NaN  NaN  NaN  NaN  NaN  NaN  NaN    80    81    82    83\n",
      "9   NaN  NaN  NaN  NaN  NaN  NaN  NaN  NaN    90    91    92    93\n",
      "10  NaN  NaN  NaN  NaN  NaN  NaN  NaN  NaN  10,0  10,1  10,2  10,3\n",
      "11  NaN  NaN  NaN  NaN  NaN  NaN  NaN  NaN  11,0  11,1  11,2  11,3\n"
     ]
    }
   ],
   "source": [
    "print(pd.concat([df1,df2,df3], axis=1))"
   ]
  },
  {
   "cell_type": "markdown",
   "metadata": {},
   "source": [
    "### GROUPBY"
   ]
  },
  {
   "cell_type": "code",
   "execution_count": 183,
   "metadata": {},
   "outputs": [
    {
     "name": "stdout",
     "output_type": "stream",
     "text": [
      "   CGPA School   Student\n",
      "0  3.12  SEECS   Mahnoor\n",
      "1  4.00  SEECS     Usman\n",
      "2  3.17   SMME   Mustafa\n",
      "3  4.00  SEECS  Abdullah\n",
      "4  3.14   SCME     Mahum\n",
      "5  3.04   SMME  Armughan\n",
      "6  3.04   SADA    Ayesha\n"
     ]
    }
   ],
   "source": [
    "import pandas as pd\n",
    "school = ['SEECS','SEECS','SMME','SEECS','SCME','SMME','SADA']\n",
    "student = ['Mahnoor','Usman','Mustafa','Abdullah','Mahum','Armughan','Ayesha']\n",
    "cgpa = [3.12,4,3.17,4,3.14,3.04,3.04]\n",
    "data = {'School':school, 'Student':student,'CGPA':cgpa}\n",
    "df = pd.DataFrame(data)\n",
    "print(df)"
   ]
  },
  {
   "cell_type": "code",
   "execution_count": 184,
   "metadata": {},
   "outputs": [
    {
     "data": {
      "text/plain": [
       "<pandas.core.groupby.DataFrameGroupBy object at 0x00000171B6E396D8>"
      ]
     },
     "execution_count": 184,
     "metadata": {},
     "output_type": "execute_result"
    }
   ],
   "source": [
    "bySchool = df.groupby('School')\n",
    "bySchool"
   ]
  },
  {
   "cell_type": "code",
   "execution_count": 185,
   "metadata": {},
   "outputs": [
    {
     "name": "stdout",
     "output_type": "stream",
     "text": [
      "            CGPA\n",
      "School          \n",
      "SADA    3.040000\n",
      "SCME    3.140000\n",
      "SEECS   3.706667\n",
      "SMME    3.105000\n",
      "            CGPA\n",
      "School          \n",
      "SADA         NaN\n",
      "SCME         NaN\n",
      "SEECS   0.508068\n",
      "SMME    0.091924\n",
      "         CGPA\n",
      "School       \n",
      "SADA     3.04\n",
      "SCME     3.14\n",
      "SEECS   11.12\n",
      "SMME     6.21\n"
     ]
    }
   ],
   "source": [
    "print(bySchool.mean())\n",
    "print(bySchool.std())\n",
    "print(bySchool.sum())"
   ]
  },
  {
   "cell_type": "code",
   "execution_count": 186,
   "metadata": {},
   "outputs": [
    {
     "name": "stdout",
     "output_type": "stream",
     "text": [
      "CGPA    0.091924\n",
      "Name: SMME, dtype: float64\n"
     ]
    }
   ],
   "source": [
    "print(df.groupby('School').std().loc['SMME'])"
   ]
  },
  {
   "cell_type": "code",
   "execution_count": 187,
   "metadata": {},
   "outputs": [
    {
     "name": "stdout",
     "output_type": "stream",
     "text": [
      "        CGPA                                                       \n",
      "       count      mean       std   min     25%    50%     75%   max\n",
      "School                                                             \n",
      "SADA     1.0  3.040000       NaN  3.04  3.0400  3.040  3.0400  3.04\n",
      "SCME     1.0  3.140000       NaN  3.14  3.1400  3.140  3.1400  3.14\n",
      "SEECS    3.0  3.706667  0.508068  3.12  3.5600  4.000  4.0000  4.00\n",
      "SMME     2.0  3.105000  0.091924  3.04  3.0725  3.105  3.1375  3.17\n"
     ]
    }
   ],
   "source": [
    "print(df.groupby('School').describe())"
   ]
  },
  {
   "cell_type": "markdown",
   "metadata": {},
   "source": [
    "### OPERATIONS IN PANDAS"
   ]
  },
  {
   "cell_type": "code",
   "execution_count": 188,
   "metadata": {},
   "outputs": [
    {
     "name": "stdout",
     "output_type": "stream",
     "text": [
      "   Age  CGPA School   Student\n",
      "0   21  3.12  SEECS   Mahnoor\n",
      "1   18  4.00  SEECS     Usman\n",
      "2   22  4.00   SMME   Mustafa\n",
      "3   21  3.13   SMME  Abdullah\n",
      "4   20  3.14   SCME     Mahum\n",
      "5   21  3.04   SMME  Armughan\n",
      "6   24  3.04   SADA    Ayesha\n"
     ]
    }
   ],
   "source": [
    "school = ['SEECS','SEECS','SMME','SMME','SCME','SMME','SADA']\n",
    "student = ['Mahnoor','Usman','Mustafa','Abdullah','Mahum','Armughan','Ayesha']\n",
    "cgpa = [3.12,4,4,3.13,3.14,3.04,3.04]\n",
    "age = [21,18,22,21,20,21,24]\n",
    "df= pd.DataFrame({'Student':student, 'School':school, \"CGPA\":cgpa, 'Age':age})\n",
    "print(df)"
   ]
  },
  {
   "cell_type": "code",
   "execution_count": 189,
   "metadata": {},
   "outputs": [
    {
     "name": "stdout",
     "output_type": "stream",
     "text": [
      "   Age  CGPA School Student\n",
      "1   18   4.0  SEECS   Usman\n"
     ]
    }
   ],
   "source": [
    "print(df[(df['School']=='SEECS') & (df['CGPA']==4)])"
   ]
  },
  {
   "cell_type": "code",
   "execution_count": 190,
   "metadata": {},
   "outputs": [
    {
     "data": {
      "text/plain": [
       "SMME     3\n",
       "SEECS    2\n",
       "SADA     1\n",
       "SCME     1\n",
       "Name: School, dtype: int64"
      ]
     },
     "execution_count": 190,
     "metadata": {},
     "output_type": "execute_result"
    }
   ],
   "source": [
    "(df['School'].value_counts())"
   ]
  },
  {
   "cell_type": "code",
   "execution_count": 191,
   "metadata": {},
   "outputs": [
    {
     "name": "stdout",
     "output_type": "stream",
     "text": [
      "   Age  CGPA School   Student\n",
      "5   21  3.04   SMME  Armughan\n",
      "6   24  3.04   SADA    Ayesha\n",
      "0   21  3.12  SEECS   Mahnoor\n",
      "3   21  3.13   SMME  Abdullah\n",
      "4   20  3.14   SCME     Mahum\n",
      "1   18  4.00  SEECS     Usman\n",
      "2   22  4.00   SMME   Mustafa\n"
     ]
    }
   ],
   "source": [
    "print(df.sort_values(by='CGPA'))"
   ]
  },
  {
   "cell_type": "code",
   "execution_count": 192,
   "metadata": {},
   "outputs": [
    {
     "name": "stdout",
     "output_type": "stream",
     "text": [
      "['SEECS' 'SMME' 'SCME' 'SADA']\n",
      "4\n"
     ]
    }
   ],
   "source": [
    "print(df['School'].unique())\n",
    "print(df['School'].nunique())"
   ]
  },
  {
   "cell_type": "code",
   "execution_count": 193,
   "metadata": {},
   "outputs": [
    {
     "name": "stdout",
     "output_type": "stream",
     "text": [
      "   Age  CGPA   Student\n",
      "0   21  3.12   Mahnoor\n",
      "1   18  4.00     Usman\n",
      "2   22  4.00   Mustafa\n",
      "3   21  3.13  Abdullah\n",
      "4   20  3.14     Mahum\n",
      "5   21  3.04  Armughan\n",
      "6   24  3.04    Ayesha\n"
     ]
    }
   ],
   "source": [
    "print(df.drop('School', axis=1))"
   ]
  },
  {
   "cell_type": "code",
   "execution_count": 194,
   "metadata": {},
   "outputs": [
    {
     "name": "stdout",
     "output_type": "stream",
     "text": [
      "Index(['Age', 'CGPA', 'School', 'Student'], dtype='object')\n",
      "RangeIndex(start=0, stop=7, step=1)\n"
     ]
    }
   ],
   "source": [
    "print(df.columns)\n",
    "print(df.index)"
   ]
  },
  {
   "cell_type": "code",
   "execution_count": 195,
   "metadata": {},
   "outputs": [
    {
     "name": "stdout",
     "output_type": "stream",
     "text": [
      "     Age   CGPA  School  Student\n",
      "0  False  False   False    False\n",
      "1  False  False   False    False\n",
      "2  False  False   False    False\n",
      "3  False  False   False    False\n",
      "4  False  False   False    False\n",
      "5  False  False   False    False\n",
      "6  False  False   False    False\n"
     ]
    }
   ],
   "source": [
    "print(df.isnull())"
   ]
  },
  {
   "cell_type": "markdown",
   "metadata": {},
   "source": [
    "### APPLYING CUSTOM FUNCTIONS"
   ]
  },
  {
   "cell_type": "code",
   "execution_count": 196,
   "metadata": {},
   "outputs": [],
   "source": [
    "def square(x): return x*x\n",
    "# lambda x : x*x"
   ]
  },
  {
   "cell_type": "code",
   "execution_count": 197,
   "metadata": {},
   "outputs": [
    {
     "name": "stdout",
     "output_type": "stream",
     "text": [
      "0     9.7344\n",
      "1    16.0000\n",
      "2    16.0000\n",
      "3     9.7969\n",
      "4     9.8596\n",
      "5     9.2416\n",
      "6     9.2416\n",
      "Name: CGPA, dtype: float64\n"
     ]
    }
   ],
   "source": [
    "print(df.CGPA.apply(square))"
   ]
  },
  {
   "cell_type": "code",
   "execution_count": 198,
   "metadata": {},
   "outputs": [
    {
     "name": "stdout",
     "output_type": "stream",
     "text": [
      "0     9.7344\n",
      "1    16.0000\n",
      "2    16.0000\n",
      "3     9.7969\n",
      "4     9.8596\n",
      "5     9.2416\n",
      "6     9.2416\n",
      "Name: CGPA, dtype: float64\n"
     ]
    }
   ],
   "source": [
    "print(df.CGPA.apply(lambda x:x*x))"
   ]
  },
  {
   "cell_type": "markdown",
   "metadata": {},
   "source": [
    "### DATA I/O\n",
    "You need to install sqlalchemy and lxml for this section of the tutorial"
   ]
  },
  {
   "cell_type": "code",
   "execution_count": 199,
   "metadata": {},
   "outputs": [
    {
     "name": "stdout",
     "output_type": "stream",
     "text": [
      "   Customer ID                     City  ZipCode Gender   Age\n",
      "1          673  Murfreesboro, Tennessee    37129      F  28.1\n",
      "2          857    Kansas City, Missouri    64167      F  30.8\n",
      "3          966     Nunnelly,  Tennessee    37137      M  32.1\n",
      "4         1001       Fayetteville, Ohio    45118      F  41.4\n",
      "5         5149       Kinmundy, Illinois    62854      F  36.6\n",
      "6         5453       Malibu, California    90264      M  36.2\n",
      "7         5470       Eminence, Missouri    65466      F  23.6\n",
      "8         5492  Murfreesboro, Tennessee    37129      F  36.6\n",
      "9         5618      Bradley, California    93426      M  29.8\n"
     ]
    }
   ],
   "source": [
    "import pandas as pd\n",
    "df = pd.read_csv('../Datasets/CustomerList.csv')\n",
    "print(df[1:10])"
   ]
  },
  {
   "cell_type": "code",
   "execution_count": 200,
   "metadata": {},
   "outputs": [],
   "source": [
    "df.to_csv('Output',index=False)"
   ]
  },
  {
   "cell_type": "code",
   "execution_count": 201,
   "metadata": {},
   "outputs": [
    {
     "name": "stdout",
     "output_type": "stream",
     "text": [
      "   RowNumber  CustomerId   Surname  CreditScore Geography  Gender  Age  \\\n",
      "1          2    15647311      Hill          608     Spain  Female   41   \n",
      "2          3    15619304      Onio          502    France  Female   42   \n",
      "3          4    15701354      Boni          699    France  Female   39   \n",
      "4          5    15737888  Mitchell          850     Spain  Female   43   \n",
      "5          6    15574012       Chu          645     Spain    Male   44   \n",
      "6          7    15592531  Bartlett          822    France    Male   50   \n",
      "7          8    15656148    Obinna          376   Germany  Female   29   \n",
      "8          9    15792365        He          501    France    Male   44   \n",
      "9         10    15592389        H?          684    France    Male   27   \n",
      "\n",
      "   Tenure    Balance  NumOfProducts  HasCrCard  IsActiveMember  \\\n",
      "1       1   83807.86              1          0               1   \n",
      "2       8  159660.80              3          1               0   \n",
      "3       1       0.00              2          0               0   \n",
      "4       2  125510.82              1          1               1   \n",
      "5       8  113755.78              2          1               0   \n",
      "6       7       0.00              2          1               1   \n",
      "7       4  115046.74              4          1               0   \n",
      "8       4  142051.07              2          0               1   \n",
      "9       2  134603.88              1          1               1   \n",
      "\n",
      "   EstimatedSalary  Exited  \n",
      "1        112542.58       0  \n",
      "2        113931.57       1  \n",
      "3         93826.63       0  \n",
      "4         79084.10       0  \n",
      "5        149756.71       1  \n",
      "6         10062.80       0  \n",
      "7        119346.88       1  \n",
      "8         74940.50       0  \n",
      "9         71725.73       0  \n"
     ]
    }
   ],
   "source": [
    "df = pd.read_excel('../Datasets/Churn-Modelling.xlsx')\n",
    "print(df[1:10])"
   ]
  },
  {
   "cell_type": "markdown",
   "metadata": {},
   "source": [
    "### WELCOME TO THE END OF THE TUTORIAL\n",
    "You made it!! As always, Hope you enjoyed taking this tutorial as much as I enjoyed making it. From the next tutorial, we will be starting data visualizations, enough with the boring mumbo jumbo, let's put some colors in our lives. Until then, enjoy data wrangling. \n",
    "\n",
    "---------------------------------------------------------------------------------\n",
    "Copyrights © 2018, All Rights Reserved.\n",
    "- Author: Mahnoor Anjum.\n",
    "- Course: The Complete Hands-On Machine Learning Course\n",
    "- Date Created: 2018-06-28\n",
    "- Date Modified: -"
   ]
  }
 ],
 "metadata": {
  "kernelspec": {
   "display_name": "Python 3",
   "language": "python",
   "name": "python3"
  },
  "language_info": {
   "codemirror_mode": {
    "name": "ipython",
    "version": 3
   },
   "file_extension": ".py",
   "mimetype": "text/x-python",
   "name": "python",
   "nbconvert_exporter": "python",
   "pygments_lexer": "ipython3",
   "version": "3.5.4"
  }
 },
 "nbformat": 4,
 "nbformat_minor": 2
}

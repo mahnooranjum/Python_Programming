{
 "cells": [
  {
   "cell_type": "markdown",
   "metadata": {},
   "source": [
    "# OBJECT ORIENTED PROGRAMMING IN PYTHON \n",
    "\n",
    "Welcome to the second tutorial in this section. Object Oriented programming is a style of programming made available by high level languages such as Python, C++ and Java. It utilizes the concept of real world OBJECTS belonging to different CLASSES. \n",
    "\n",
    "Some Examples are presented below:\n",
    "\n",
    "--------------------------------------\n",
    "### < OBJECT , CLASS >\n",
    "- < Mahnoor , Human >\n",
    "- < Mazda , Car > \n",
    "- < FC Barcelona, Football Club > \n",
    "- < Electrical Engineering, Degree >\n",
    "- < Nemo , Fish >\n",
    "\n",
    "\n",
    "Most of our work in the Deep Learning section will heavily rely on OOP concepts hence we will develop a sound foundation in this tutorial. \n",
    "\n",
    "- Python Basics\n",
    "- **Object Oriented Python**\n",
    "- Python for Data Science\n",
    "- NumPy\n",
    "- Pandas\n",
    "- Plotting \n",
    "    - Matplotlib\n",
    "    - Seaborn\n",
    "    - Plotly\n",
    "    \n",
    "Let's get coding !"
   ]
  },
  {
   "cell_type": "markdown",
   "metadata": {},
   "source": [
    "### CLASSES AND OBJECTS"
   ]
  },
  {
   "cell_type": "code",
   "execution_count": 152,
   "metadata": {},
   "outputs": [],
   "source": [
    "#This is a class declaration\n",
    "class Student:\n",
    "    pass"
   ]
  },
  {
   "cell_type": "markdown",
   "metadata": {},
   "source": [
    "Here, Mahnoor Usman and Abdullah are all Instances or Objects (Yes Python just objectified people) of the class Student."
   ]
  },
  {
   "cell_type": "code",
   "execution_count": 153,
   "metadata": {},
   "outputs": [
    {
     "name": "stdout",
     "output_type": "stream",
     "text": [
      "<__main__.Student object at 0x000002E6151DC438>\n"
     ]
    }
   ],
   "source": [
    "#The class is a category which can contain objects or instances.\n",
    "Mahnoor = Student()\n",
    "Usman = Student()\n",
    "Abdullah = Student()\n",
    "print(Mahnoor)"
   ]
  },
  {
   "cell_type": "markdown",
   "metadata": {},
   "source": [
    "Now that our objects, I mean Students(dang it) are ready, let us create some instance variables for them. \n",
    "\n",
    "Instance variables are basically attributes assigned to each object. \n",
    "\n",
    "They are specific to the object created and have no correlation with any other object of the same class. \n"
   ]
  },
  {
   "cell_type": "code",
   "execution_count": 154,
   "metadata": {},
   "outputs": [],
   "source": [
    "Mahnoor.LastName = 'Anjum'\n",
    "Mahnoor.Hobby = 'Sleeping'\n",
    "Mahnoor.Age = 21\n",
    "Mahnoor.School = 'SEECS'"
   ]
  },
  {
   "cell_type": "code",
   "execution_count": 155,
   "metadata": {},
   "outputs": [],
   "source": [
    "Usman.LastName = 'Muhammad'\n",
    "Usman.Hobby = 'Gaming'\n",
    "Usman.Age = 18\n",
    "Usman.School = 'School of Thought'"
   ]
  },
  {
   "cell_type": "code",
   "execution_count": 156,
   "metadata": {},
   "outputs": [
    {
     "name": "stdout",
     "output_type": "stream",
     "text": [
      "Sleeping\n",
      "Anime\n",
      "Gaming\n"
     ]
    }
   ],
   "source": [
    "Abdullah.LastName= 'Muhammad'\n",
    "Abdullah.Hobby = 'Anime'\n",
    "Abdullah.Age = 19\n",
    "Abdullah.School = 'Master Academy'\n",
    "print(Mahnoor.Hobby)\n",
    "print(Abdullah.Hobby)\n",
    "print(Usman.Hobby)"
   ]
  },
  {
   "cell_type": "markdown",
   "metadata": {},
   "source": [
    "#### BUT THAT IS SO TEDIOUS\n",
    "YES, YES IT IS. Which is why we should never create variables or ATTRIBUTES as described above. We should instantiate them in the CLASS DEFINITION and SET them while we are creating those OBJECTS !!! "
   ]
  },
  {
   "cell_type": "code",
   "execution_count": 157,
   "metadata": {},
   "outputs": [],
   "source": [
    "#Smart Class Definition\n",
    "class Student:\n",
    "    def __init__(self, LastName, Hobby, Age, School):\n",
    "        self.LastName = LastName\n",
    "        self.Hobby = Hobby\n",
    "        self.Age = Age\n",
    "        self.School = School\n",
    "    def print_object(self, FirstName):\n",
    "        print(\"---------------------------------\")\n",
    "        print(\"Last Name : {} {}\".format(FirstName, self.LastName))\n",
    "        print(\"Age : {}\".format(self.Age))\n",
    "        print(\"Hobby : {}\".format(self.Hobby))\n",
    "        print(\"School : {}\".format(self.School))\n",
    "        print(\"---------------------------------\")\n"
   ]
  },
  {
   "cell_type": "markdown",
   "metadata": {},
   "source": [
    "Okay let's go over these arguments one by one. \n",
    "- def __init__(self, LastName, Hobby, Age, School):\n",
    "We are definiting an initialization method for the class Student. Initialization is basically the \"creation\" of an \"object\" of the \"class\". \n",
    "\n",
    "So why do we need a method to initialize it? We need a method when we want to specify some attributes of the object. For example, if we have a class of \"CAR\" and we want to enter different cars in the database. We will have a few \"CAR\" variables (or object variables, since car is the class and instances are objects) that define the object uniquely. \n",
    "\n",
    "It's model, company, manufacturer, horse power, speed, type et cetera. \n"
   ]
  },
  {
   "cell_type": "code",
   "execution_count": 158,
   "metadata": {},
   "outputs": [
    {
     "name": "stdout",
     "output_type": "stream",
     "text": [
      "---------------------------------\n",
      "Last Name : Mahnoor Anjum\n",
      "Age : 21\n",
      "Hobby : Sleeping\n",
      "School : SEECS\n",
      "---------------------------------\n"
     ]
    }
   ],
   "source": [
    "Mahnoor = Student(\"Anjum\", \"Sleeping\", 21,\"SEECS\")\n",
    "Mahnoor.print_object(\"Mahnoor\")"
   ]
  },
  {
   "cell_type": "code",
   "execution_count": 159,
   "metadata": {},
   "outputs": [
    {
     "name": "stdout",
     "output_type": "stream",
     "text": [
      "---------------------------------\n",
      "Last Name : Mahnoor Anjum\n",
      "Age : 21\n",
      "Hobby : Sleeping\n",
      "School : SEECS\n",
      "---------------------------------\n"
     ]
    }
   ],
   "source": [
    "Student.print_object(Mahnoor,\"Mahnoor\")"
   ]
  },
  {
   "attachments": {
    "venn.PNG": {
     "image/png": "[encoded data removed]"
    }
   },
   "cell_type": "markdown",
   "metadata": {},
   "source": [
    "### CLASS VARIABLES\n",
    "Class variables are the variables that are shared by ALL objects of ONE CLASS. These variables are not specific to ONE object. Consider the venn diagram below. \n",
    "\n",
    "![venn.PNG](attachment:venn.PNG)\n",
    "\n",
    "The intersection of the two objects i.e students are the class variables. "
   ]
  },
  {
   "cell_type": "code",
   "execution_count": 160,
   "metadata": {},
   "outputs": [],
   "source": [
    "#Smarter Class Definition\n",
    "class Student:\n",
    "    Tax = 1.02\n",
    "    Count = 0\n",
    "    def __init__(self, LastName, Hobby, Age, School, Fee):\n",
    "        self.LastName = LastName\n",
    "        self.Hobby = Hobby\n",
    "        self.Age = Age\n",
    "        self.School = School\n",
    "        self.Fee = Fee\n",
    "        Student.Count = Student.Count+1\n",
    "    def print_object(self, FirstName):\n",
    "        print(\"---------------------------------\")\n",
    "        print(\"Last Name : {} {}\".format(FirstName, self.LastName))\n",
    "        print(\"Age : {}\".format(self.Age))\n",
    "        print(\"Hobby : {}\".format(self.Hobby))\n",
    "        print(\"School : {}\".format(self.School))\n",
    "        print(\"Fee : {}Rs\".format(self.Fee))\n",
    "        print(\"---------------------------------\")\n",
    "    def update_fee(self):\n",
    "        self.Fee = int(self.Fee * Student.Tax)"
   ]
  },
  {
   "cell_type": "code",
   "execution_count": 161,
   "metadata": {},
   "outputs": [
    {
     "name": "stdout",
     "output_type": "stream",
     "text": [
      "---------------------------------\n",
      "Last Name : Mahnoor Anjum\n",
      "Age : 21\n",
      "Hobby : Sleeping\n",
      "School : SEECS\n",
      "Fee : 98000Rs\n",
      "---------------------------------\n",
      "---------------------------------\n",
      "Last Name : Usman Muhammad\n",
      "Age : 18\n",
      "Hobby : Gaming\n",
      "School : School of Thought\n",
      "Fee : 78000Rs\n",
      "---------------------------------\n"
     ]
    }
   ],
   "source": [
    "Mahnoor = Student(\"Anjum\", \"Sleeping\", 21,\"SEECS\", 98000)\n",
    "Mahnoor.print_object(\"Mahnoor\")\n",
    "Usman = Student(\"Muhammad\",\"Gaming\", 18, \"School of Thought\", 78000)\n",
    "Usman.print_object(\"Usman\")\n"
   ]
  },
  {
   "cell_type": "code",
   "execution_count": 162,
   "metadata": {},
   "outputs": [
    {
     "name": "stdout",
     "output_type": "stream",
     "text": [
      "---------------------------------\n",
      "Last Name : Mahnoor Anjum\n",
      "Age : 21\n",
      "Hobby : Sleeping\n",
      "School : SEECS\n",
      "Fee : 99960Rs\n",
      "---------------------------------\n"
     ]
    }
   ],
   "source": [
    "Mahnoor.update_fee()\n",
    "Mahnoor.print_object(\"Mahnoor\")"
   ]
  },
  {
   "cell_type": "code",
   "execution_count": 163,
   "metadata": {},
   "outputs": [
    {
     "name": "stdout",
     "output_type": "stream",
     "text": [
      "1.02\n",
      "1.02\n"
     ]
    }
   ],
   "source": [
    "print(Mahnoor.Tax)\n",
    "print(Usman.Tax)"
   ]
  },
  {
   "cell_type": "code",
   "execution_count": 164,
   "metadata": {},
   "outputs": [
    {
     "name": "stdout",
     "output_type": "stream",
     "text": [
      "{'Hobby': 'Sleeping', 'Age': 21, 'LastName': 'Anjum', 'Fee': 99960, 'School': 'SEECS'}\n",
      "{'Hobby': 'Gaming', 'Age': 18, 'LastName': 'Muhammad', 'Fee': 78000, 'School': 'School of Thought'}\n"
     ]
    }
   ],
   "source": [
    "print(Mahnoor.__dict__)\n",
    "print(Usman.__dict__)"
   ]
  },
  {
   "cell_type": "code",
   "execution_count": 165,
   "metadata": {},
   "outputs": [
    {
     "name": "stdout",
     "output_type": "stream",
     "text": [
      "{'__init__': <function Student.__init__ at 0x000002E61521D950>, '__doc__': None, '__dict__': <attribute '__dict__' of 'Student' objects>, '__module__': '__main__', 'Count': 2, '__weakref__': <attribute '__weakref__' of 'Student' objects>, 'print_object': <function Student.print_object at 0x000002E61521D510>, 'update_fee': <function Student.update_fee at 0x000002E61521D0D0>, 'Tax': 1.02}\n"
     ]
    }
   ],
   "source": [
    "print(Student.__dict__)"
   ]
  },
  {
   "cell_type": "code",
   "execution_count": 166,
   "metadata": {},
   "outputs": [
    {
     "name": "stdout",
     "output_type": "stream",
     "text": [
      "1.03\n",
      "1.03\n"
     ]
    }
   ],
   "source": [
    "Student.Tax = 1.03 #Class variable updated\n",
    "print(Mahnoor.Tax) #Variable changed for all objects\n",
    "print(Usman.Tax)\n",
    "Student.Tax = 1.02 #Class variable updated"
   ]
  },
  {
   "cell_type": "code",
   "execution_count": 167,
   "metadata": {},
   "outputs": [
    {
     "name": "stdout",
     "output_type": "stream",
     "text": [
      "1.03\n",
      "1.02\n",
      "===================================\n",
      "{'Hobby': 'Sleeping', 'Age': 21, 'LastName': 'Anjum', 'Fee': 99960, 'School': 'SEECS', 'Tax': 1.03}\n",
      "===================================\n",
      "{'Hobby': 'Gaming', 'Age': 18, 'LastName': 'Muhammad', 'Fee': 78000, 'School': 'School of Thought'}\n",
      "===================================\n",
      "{'__init__': <function Student.__init__ at 0x000002E61521D950>, '__doc__': None, '__dict__': <attribute '__dict__' of 'Student' objects>, '__module__': '__main__', 'Count': 2, '__weakref__': <attribute '__weakref__' of 'Student' objects>, 'print_object': <function Student.print_object at 0x000002E61521D510>, 'update_fee': <function Student.update_fee at 0x000002E61521D0D0>, 'Tax': 1.02}\n"
     ]
    }
   ],
   "source": [
    "Mahnoor.Tax=1.03 #Class variable updated for ONE object effectively\n",
    "print(Mahnoor.Tax)#creating another object variable named Tax. So,\n",
    "print(Usman.Tax)#the object Mahnoor has two variables called Tax. \n",
    "print(\"===================================\")\n",
    "print(Mahnoor.__dict__)\n",
    "print(\"===================================\")\n",
    "print(Usman.__dict__)\n",
    "print(\"===================================\")\n",
    "print(Student.__dict__)\n",
    "Mahnoor.Tax=1.02"
   ]
  },
  {
   "cell_type": "code",
   "execution_count": 168,
   "metadata": {},
   "outputs": [
    {
     "data": {
      "text/plain": [
       "2"
      ]
     },
     "execution_count": 168,
     "metadata": {},
     "output_type": "execute_result"
    }
   ],
   "source": [
    "Mahnoor.Count"
   ]
  },
  {
   "cell_type": "markdown",
   "metadata": {},
   "source": [
    "### SUBCLASSES AND INHERITANCE "
   ]
  },
  {
   "cell_type": "code",
   "execution_count": 169,
   "metadata": {},
   "outputs": [],
   "source": [
    " #Smarter Class Definition\n",
    "class Student:\n",
    "    Tax = 1.02\n",
    "    Count = 0\n",
    "    def __init__(self, LastName, Hobby, Age, School, Fee):\n",
    "        self.LastName = LastName\n",
    "        self.Hobby = Hobby\n",
    "        self.Age = Age\n",
    "        self.School = School\n",
    "        self.Fee = Fee\n",
    "        Student.Count = Student.Count+1\n",
    "    def print_object(self, FirstName):\n",
    "        print(\"---------------------------------\")\n",
    "        print(\"Last Name : {} {}\".format(FirstName, self.LastName))\n",
    "        print(\"Age : {}\".format(self.Age))\n",
    "        print(\"Hobby : {}\".format(self.Hobby))\n",
    "        print(\"School : {}\".format(self.School))\n",
    "        print(\"Fee : {}Rs\".format(self.Fee))\n",
    "        print(\"---------------------------------\")\n",
    "    def update_fee(self):\n",
    "        self.Fee = int(self.Fee * Student.Tax)"
   ]
  },
  {
   "cell_type": "code",
   "execution_count": 170,
   "metadata": {},
   "outputs": [],
   "source": [
    "class SEECS(Student):\n",
    "    Tax = 1.18\n",
    "    def __init__(self, LastName, Hobby, Age, School, Fee, FYP):\n",
    "        super().__init__(LastName, Hobby, Age, School, Fee)\n",
    "        self.FYP = FYP\n"
   ]
  },
  {
   "cell_type": "code",
   "execution_count": 171,
   "metadata": {},
   "outputs": [],
   "source": [
    "class SADA(Student):\n",
    "    Tax = 1.1\n",
    "    def __init__(self, LastName, Hobby, Age, School, Fee, Thesis):\n",
    "        super().__init__(LastName, Hobby, Age, School, Fee)\n",
    "        self.Thesis = Thesis"
   ]
  },
  {
   "cell_type": "code",
   "execution_count": 172,
   "metadata": {},
   "outputs": [
    {
     "name": "stdout",
     "output_type": "stream",
     "text": [
      "1.18\n",
      "1.1\n"
     ]
    }
   ],
   "source": [
    "Jane = SADA(\"Doe\",\"Yelling\",21,\"SADA\",10200, \"Convertable Table\")\n",
    "Mahnoor =SEECS(\"Anjum\", \"Sleeping\", 21,\"SEECS\", 98000, 'LPWAN')\n",
    "print(Mahnoor.Tax)\n",
    "print(Jane.Tax)\n",
    "#help(SADA)"
   ]
  },
  {
   "cell_type": "code",
   "execution_count": 173,
   "metadata": {},
   "outputs": [
    {
     "name": "stdout",
     "output_type": "stream",
     "text": [
      "LPWAN\n",
      "Convertable Table\n"
     ]
    }
   ],
   "source": [
    "print(Mahnoor.FYP)\n",
    "print(Jane.Thesis)"
   ]
  },
  {
   "cell_type": "markdown",
   "metadata": {},
   "source": [
    "### CLASS AND STATIC METHODS"
   ]
  },
  {
   "cell_type": "code",
   "execution_count": 174,
   "metadata": {},
   "outputs": [],
   "source": [
    "#Smarter-er Class Definition\n",
    "class Student:\n",
    "    Tax = 1.02\n",
    "    Count = 0\n",
    "    def __init__(self, LastName, Hobby, Age, School, Fee):\n",
    "        self.LastName = LastName\n",
    "        self.Hobby = Hobby\n",
    "        self.Age = Age\n",
    "        self.School = School\n",
    "        self.Fee = Fee\n",
    "        Student.Count = Student.Count+1\n",
    "    def print_object(self, FirstName):\n",
    "        print(\"---------------------------------\")\n",
    "        print(\"Last Name : {} {}\".format(FirstName, self.LastName))\n",
    "        print(\"Age : {}\".format(self.Age))\n",
    "        print(\"Hobby : {}\".format(self.Hobby))\n",
    "        print(\"School : {}\".format(self.School))\n",
    "        print(\"Fee : {}Rs\".format(self.Fee))\n",
    "        print(\"---------------------------------\")\n",
    "    def update_fee(self):\n",
    "        self.Fee = int(self.Fee * Student.Tax)\n",
    "    @classmethod #This method will effect the entire class\n",
    "    def set_tax(cls, amount):\n",
    "        cls.Tax = amount\n",
    "    @classmethod \n",
    "    def from_str(cls, str):\n",
    "        LastName, Hobby, Age, School, Fee = str.split(',')\n",
    "        return cls(LastName, Hobby, Age, School, Fee)"
   ]
  },
  {
   "cell_type": "code",
   "execution_count": 175,
   "metadata": {},
   "outputs": [
    {
     "name": "stdout",
     "output_type": "stream",
     "text": [
      "---------------------------------\n",
      "Last Name : Mahnoor Anjum\n",
      "Age : 21\n",
      "Hobby : Sleeping\n",
      "School : SEECS\n",
      "Fee : 98000Rs\n",
      "---------------------------------\n",
      "---------------------------------\n",
      "Last Name : Usman Muhammad\n",
      "Age : 18\n",
      "Hobby : Gaming\n",
      "School : School of Thought\n",
      "Fee : 78000Rs\n",
      "---------------------------------\n"
     ]
    }
   ],
   "source": [
    "Mahnoor = Student(\"Anjum\", \"Sleeping\", 21,\"SEECS\", 98000)\n",
    "Mahnoor.print_object(\"Mahnoor\")\n",
    "Usman = Student(\"Muhammad\",\"Gaming\", 18, \"School of Thought\", 78000)\n",
    "Usman.print_object(\"Usman\")"
   ]
  },
  {
   "cell_type": "code",
   "execution_count": 176,
   "metadata": {},
   "outputs": [
    {
     "name": "stdout",
     "output_type": "stream",
     "text": [
      "1.02\n",
      "1.02\n",
      "1.07\n",
      "Sleeping\n",
      "1.07\n"
     ]
    }
   ],
   "source": [
    "print(Mahnoor.Tax)\n",
    "print(Usman.Tax)\n",
    "Mahnoor.set_tax(1.07) \n",
    "#This method, called by ANY object, updates the variables for ALL\n",
    "#objects. Class methods can only contain class variables.\n",
    "print(Mahnoor.Tax)\n",
    "print(Mahnoor.Hobby)\n",
    "print(Usman.Tax)"
   ]
  },
  {
   "cell_type": "code",
   "execution_count": 177,
   "metadata": {},
   "outputs": [
    {
     "name": "stdout",
     "output_type": "stream",
     "text": [
      "---------------------------------\n",
      "Last Name : Mahnoor Anjum\n",
      "Age : 21\n",
      "Hobby : Sleeping\n",
      "School : SEECS\n",
      "Fee : 98000Rs\n",
      "---------------------------------\n"
     ]
    }
   ],
   "source": [
    "New_Mahnoor = Student.from_str(\"Anjum,Sleeping,21,SEECS,98000\")\n",
    "Student.print_object(New_Mahnoor,\"Mahnoor\")\n"
   ]
  },
  {
   "cell_type": "markdown",
   "metadata": {},
   "source": [
    "### SPECIAL METHODS OR DUNDER METHODS\n",
    "Special methods also known as dunder methods are always surrounded by double underscores. Could you recall a dunder we have already seen?"
   ]
  },
  {
   "cell_type": "code",
   "execution_count": 178,
   "metadata": {},
   "outputs": [],
   "source": [
    "#Smarter-er-er Class Definition\n",
    "class Student:\n",
    "    Tax = 1.02\n",
    "    Count = 0\n",
    "    def __init__(self, LastName, Hobby, Age, School, Fee):\n",
    "        self.LastName = LastName\n",
    "        self.Hobby = Hobby\n",
    "        self.Age = Age\n",
    "        self.School = School\n",
    "        self.Fee = Fee\n",
    "        Student.Count = Student.Count+1\n",
    "    def update_fee(self):\n",
    "        self.Fee = int(self.Fee * Student.Tax)\n",
    "    @classmethod\n",
    "    def set_tax(cls, amount):\n",
    "        cls.Tax = amount\n",
    "    @classmethod\n",
    "    def from_str(cls, str):\n",
    "        LastName, Hobby, Age, School, Fee = str.split(',')\n",
    "        return cls(LastName, Hobby, Age, School, Fee)\n",
    "    def __repr__(self):\n",
    "        return \"Student({},{},{},{},{})\".format(self.LastName, self.Hobby, self.Age, self.School, self.Fee)\n",
    "        \n",
    "    def __str__(self):\n",
    "        print(\"---------------------------------\")\n",
    "        print(\"Last Name : {}\".format(self.LastName))\n",
    "        print(\"Age : {}\".format(self.Age))\n",
    "        print(\"Hobby : {}\".format(self.Hobby))\n",
    "        print(\"School : {}\".format(self.School))\n",
    "        print(\"Fee : {}Rs\".format(self.Fee))\n",
    "        print(\"---------------------------------\")\n",
    "        return \"\"\n",
    "    def __add__(self, other):\n",
    "        return self.Fee + other.Fee"
   ]
  },
  {
   "cell_type": "code",
   "execution_count": 179,
   "metadata": {},
   "outputs": [
    {
     "name": "stdout",
     "output_type": "stream",
     "text": [
      "---------------------------------\n",
      "Last Name : Anjum\n",
      "Age : 21\n",
      "Hobby : Sleeping\n",
      "School : SEECS\n",
      "Fee : 98000Rs\n",
      "---------------------------------\n"
     ]
    },
    {
     "data": {
      "text/plain": [
       "'Student(Anjum,Sleeping,21,SEECS,98000)'"
      ]
     },
     "execution_count": 179,
     "metadata": {},
     "output_type": "execute_result"
    }
   ],
   "source": [
    "Mahnoor = Student(\"Anjum\", \"Sleeping\", 21,\"SEECS\", 98000) #WHY not from_str\n",
    "Usman = Student(\"Muhammad\",\"Gaming\", 18, \"School of Thought\", 78000)\n",
    "str(Mahnoor)\n",
    "repr(Mahnoor)"
   ]
  },
  {
   "cell_type": "code",
   "execution_count": 180,
   "metadata": {},
   "outputs": [
    {
     "name": "stdout",
     "output_type": "stream",
     "text": [
      "176000\n"
     ]
    }
   ],
   "source": [
    "print(Mahnoor + Usman)"
   ]
  },
  {
   "cell_type": "markdown",
   "metadata": {},
   "source": [
    "### WELCOME TO THE END OF THE TUTORIAL\n",
    "You made it!! Hope you enjoyed taking this tutorial as much as I enjoyed coding it. From the next tutorial, we will be jumping right into the Data Science ascpect of Python Programming Language. Until then, happy coding. \n",
    "\n",
    "---------------------------------------------------------------------------------\n",
    "Copyrights © 2018, All Rights Reserved.\n",
    "- Author: Mahnoor Anjum.\n",
    "- Course: The Complete Hands-On Machine Learning Course\n",
    "- Date Created: 2018-06-28\n",
    "- Date Modified: -"
   ]
  }
 ],
 "metadata": {
  "kernelspec": {
   "display_name": "Python 3",
   "language": "python",
   "name": "python3"
  },
  "language_info": {
   "codemirror_mode": {
    "name": "ipython",
    "version": 3
   },
   "file_extension": ".py",
   "mimetype": "text/x-python",
   "name": "python",
   "nbconvert_exporter": "python",
   "pygments_lexer": "ipython3",
   "version": "3.5.4"
  }
 },
 "nbformat": 4,
 "nbformat_minor": 2
}

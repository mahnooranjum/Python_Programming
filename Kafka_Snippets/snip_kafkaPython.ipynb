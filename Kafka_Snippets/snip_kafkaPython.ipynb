{
 "cells": [
  {
   "cell_type": "code",
   "execution_count": null,
   "id": "b698f6ac",
   "metadata": {},
   "outputs": [],
   "source": [
    "# # !pip install kafka-python\n",
    "# !pip install Faker"
   ]
  },
  {
   "cell_type": "code",
   "execution_count": null,
   "id": "a5f2f6b4",
   "metadata": {},
   "outputs": [],
   "source": [
    "from faker import Faker \n",
    "fake = Faker()\n",
    "\n",
    "def get_entry():\n",
    "    return {\n",
    "        \"name\": fake.name(),\n",
    "        \"address\": fake.address()\n",
    "    }\n"
   ]
  },
  {
   "cell_type": "code",
   "execution_count": null,
   "id": "9937278f",
   "metadata": {},
   "outputs": [],
   "source": [
    "get_entry()"
   ]
  },
  {
   "cell_type": "code",
   "execution_count": null,
   "id": "d5e9dd7f",
   "metadata": {},
   "outputs": [],
   "source": [
    "import json \n",
    "def json_serializer(data):\n",
    "    return json.dumps(data).encode(\"utf-8\")"
   ]
  },
  {
   "cell_type": "code",
   "execution_count": null,
   "id": "9bb20311",
   "metadata": {},
   "outputs": [],
   "source": [
    "def get_partition(key, allps, available):\n",
    "    return 1"
   ]
  },
  {
   "cell_type": "code",
   "execution_count": null,
   "id": "4b2c22ac",
   "metadata": {},
   "outputs": [],
   "source": [
    "from kafka import KafkaProducer \n",
    "\n",
    "# producer = KafkaProducer(bootstrap_servers= ['10.0.2.15:9092'], \n",
    "#                          value_serializer= json_serializer)\n",
    "\n",
    "producer = KafkaProducer(bootstrap_servers= ['10.0.2.15:9092'], \n",
    "                         value_serializer= json_serializer,\n",
    "                         partitioner = get_partition)"
   ]
  },
  {
   "cell_type": "code",
   "execution_count": null,
   "id": "a4213449",
   "metadata": {},
   "outputs": [],
   "source": [
    "import time"
   ]
  },
  {
   "cell_type": "code",
   "execution_count": null,
   "id": "1207118f",
   "metadata": {
    "scrolled": true
   },
   "outputs": [],
   "source": [
    "for i in range(20):\n",
    "    data = get_entry()\n",
    "    producer.send(\"topic_2p\", data)\n",
    "    print(data['name'])\n",
    "    time.sleep(3)"
   ]
  },
  {
   "cell_type": "code",
   "execution_count": null,
   "id": "5a7f72ee",
   "metadata": {},
   "outputs": [],
   "source": [
    "from kafka import KafkaConsumer \n",
    "consumer = KafkaConsumer(\"topic_2p\",\n",
    "                         bootstrap_servers = \"10.0.2.15:9092\",\n",
    "                         auto_offset_reset = \"earliest\",\n",
    "                         group_id= \"consumer-group-a\")"
   ]
  },
  {
   "cell_type": "code",
   "execution_count": null,
   "id": "b3a524aa",
   "metadata": {},
   "outputs": [],
   "source": [
    "for i in consumer:\n",
    "    print(\"Entry = {}\".format(json.loads(i.value)))"
   ]
  },
  {
   "cell_type": "code",
   "execution_count": null,
   "id": "5f3c8181",
   "metadata": {},
   "outputs": [],
   "source": []
  },
  {
   "cell_type": "code",
   "execution_count": null,
   "id": "0bb4c3fc",
   "metadata": {},
   "outputs": [],
   "source": []
  },
  {
   "cell_type": "code",
   "execution_count": null,
   "id": "f9d850ce",
   "metadata": {},
   "outputs": [],
   "source": []
  },
  {
   "cell_type": "code",
   "execution_count": null,
   "id": "18d63992",
   "metadata": {},
   "outputs": [],
   "source": []
  }
 ],
 "metadata": {
  "kernelspec": {
   "display_name": "Python 3 (ipykernel)",
   "language": "python",
   "name": "python3"
  },
  "language_info": {
   "codemirror_mode": {
    "name": "ipython",
    "version": 3
   },
   "file_extension": ".py",
   "mimetype": "text/x-python",
   "name": "python",
   "nbconvert_exporter": "python",
   "pygments_lexer": "ipython3",
   "version": "3.8.10"
  }
 },
 "nbformat": 4,
 "nbformat_minor": 5
}
